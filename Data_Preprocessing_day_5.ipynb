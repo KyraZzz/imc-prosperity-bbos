{
 "cells": [
  {
   "cell_type": "code",
   "execution_count": 1,
   "metadata": {},
   "outputs": [],
   "source": [
    "import pandas as pd\n",
    "import numpy as np"
   ]
  },
  {
   "cell_type": "code",
   "execution_count": 2,
   "metadata": {},
   "outputs": [],
   "source": [
    "r1d1_data = pd.read_csv(\"./island-data-bottle-round-5/trades_round_1_day_-1_wn.csv\")"
   ]
  },
  {
   "cell_type": "code",
   "execution_count": 3,
   "metadata": {},
   "outputs": [
    {
     "data": {
      "text/html": [
       "<div>\n",
       "<style scoped>\n",
       "    .dataframe tbody tr th:only-of-type {\n",
       "        vertical-align: middle;\n",
       "    }\n",
       "\n",
       "    .dataframe tbody tr th {\n",
       "        vertical-align: top;\n",
       "    }\n",
       "\n",
       "    .dataframe thead th {\n",
       "        text-align: right;\n",
       "    }\n",
       "</style>\n",
       "<table border=\"1\" class=\"dataframe\">\n",
       "  <thead>\n",
       "    <tr style=\"text-align: right;\">\n",
       "      <th></th>\n",
       "      <th>timestamp;buyer;seller;symbol;currency;price;quantity</th>\n",
       "    </tr>\n",
       "  </thead>\n",
       "  <tbody>\n",
       "    <tr>\n",
       "      <th>0</th>\n",
       "      <td>0;Paris;Caesar;PEARLS;SEASHELLS;10004.0;1</td>\n",
       "    </tr>\n",
       "    <tr>\n",
       "      <th>1</th>\n",
       "      <td>0;Paris;Charlie;BANANAS;SEASHELLS;4952.0;1</td>\n",
       "    </tr>\n",
       "    <tr>\n",
       "      <th>2</th>\n",
       "      <td>1100;Caesar;Gary;PEARLS;SEASHELLS;9996.0;2</td>\n",
       "    </tr>\n",
       "    <tr>\n",
       "      <th>3</th>\n",
       "      <td>1300;Pablo;Caesar;BANANAS;SEASHELLS;4949.0;3</td>\n",
       "    </tr>\n",
       "    <tr>\n",
       "      <th>4</th>\n",
       "      <td>1700;Paris;Camilla;PEARLS;SEASHELLS;10002.0;1</td>\n",
       "    </tr>\n",
       "  </tbody>\n",
       "</table>\n",
       "</div>"
      ],
      "text/plain": [
       "  timestamp;buyer;seller;symbol;currency;price;quantity\n",
       "0          0;Paris;Caesar;PEARLS;SEASHELLS;10004.0;1   \n",
       "1         0;Paris;Charlie;BANANAS;SEASHELLS;4952.0;1   \n",
       "2         1100;Caesar;Gary;PEARLS;SEASHELLS;9996.0;2   \n",
       "3       1300;Pablo;Caesar;BANANAS;SEASHELLS;4949.0;3   \n",
       "4      1700;Paris;Camilla;PEARLS;SEASHELLS;10002.0;1   "
      ]
     },
     "execution_count": 3,
     "metadata": {},
     "output_type": "execute_result"
    }
   ],
   "source": [
    "r1d1_data.head()"
   ]
  },
  {
   "cell_type": "code",
   "execution_count": 4,
   "metadata": {},
   "outputs": [],
   "source": [
    "market = r1d1_data\n",
    "for column_headers in market.columns: \n",
    "    market_columns = column_headers.split(';')\n",
    "market['market_info'] = market.iloc[:,0].str.split(';')\n",
    "df = pd.DataFrame(market['market_info'].tolist(), columns=market_columns).fillna(0)"
   ]
  },
  {
   "cell_type": "code",
   "execution_count": 25,
   "metadata": {},
   "outputs": [
    {
     "data": {
      "text/html": [
       "<div>\n",
       "<style scoped>\n",
       "    .dataframe tbody tr th:only-of-type {\n",
       "        vertical-align: middle;\n",
       "    }\n",
       "\n",
       "    .dataframe tbody tr th {\n",
       "        vertical-align: top;\n",
       "    }\n",
       "\n",
       "    .dataframe thead th {\n",
       "        text-align: right;\n",
       "    }\n",
       "</style>\n",
       "<table border=\"1\" class=\"dataframe\">\n",
       "  <thead>\n",
       "    <tr style=\"text-align: right;\">\n",
       "      <th></th>\n",
       "      <th>timestamp</th>\n",
       "      <th>buyer</th>\n",
       "      <th>seller</th>\n",
       "      <th>symbol</th>\n",
       "      <th>currency</th>\n",
       "      <th>price</th>\n",
       "      <th>quantity</th>\n",
       "    </tr>\n",
       "  </thead>\n",
       "  <tbody>\n",
       "    <tr>\n",
       "      <th>0</th>\n",
       "      <td>0</td>\n",
       "      <td>Paris</td>\n",
       "      <td>Caesar</td>\n",
       "      <td>PEARLS</td>\n",
       "      <td>SEASHELLS</td>\n",
       "      <td>10004.0</td>\n",
       "      <td>1</td>\n",
       "    </tr>\n",
       "    <tr>\n",
       "      <th>1</th>\n",
       "      <td>0</td>\n",
       "      <td>Paris</td>\n",
       "      <td>Charlie</td>\n",
       "      <td>BANANAS</td>\n",
       "      <td>SEASHELLS</td>\n",
       "      <td>4952.0</td>\n",
       "      <td>1</td>\n",
       "    </tr>\n",
       "    <tr>\n",
       "      <th>2</th>\n",
       "      <td>1100</td>\n",
       "      <td>Caesar</td>\n",
       "      <td>Gary</td>\n",
       "      <td>PEARLS</td>\n",
       "      <td>SEASHELLS</td>\n",
       "      <td>9996.0</td>\n",
       "      <td>2</td>\n",
       "    </tr>\n",
       "    <tr>\n",
       "      <th>3</th>\n",
       "      <td>1300</td>\n",
       "      <td>Pablo</td>\n",
       "      <td>Caesar</td>\n",
       "      <td>BANANAS</td>\n",
       "      <td>SEASHELLS</td>\n",
       "      <td>4949.0</td>\n",
       "      <td>3</td>\n",
       "    </tr>\n",
       "    <tr>\n",
       "      <th>4</th>\n",
       "      <td>1700</td>\n",
       "      <td>Paris</td>\n",
       "      <td>Camilla</td>\n",
       "      <td>PEARLS</td>\n",
       "      <td>SEASHELLS</td>\n",
       "      <td>10002.0</td>\n",
       "      <td>1</td>\n",
       "    </tr>\n",
       "    <tr>\n",
       "      <th>...</th>\n",
       "      <td>...</td>\n",
       "      <td>...</td>\n",
       "      <td>...</td>\n",
       "      <td>...</td>\n",
       "      <td>...</td>\n",
       "      <td>...</td>\n",
       "      <td>...</td>\n",
       "    </tr>\n",
       "    <tr>\n",
       "      <th>5274</th>\n",
       "      <td>997600</td>\n",
       "      <td>Gary</td>\n",
       "      <td>Caesar</td>\n",
       "      <td>PEARLS</td>\n",
       "      <td>SEASHELLS</td>\n",
       "      <td>10004.0</td>\n",
       "      <td>2</td>\n",
       "    </tr>\n",
       "    <tr>\n",
       "      <th>5275</th>\n",
       "      <td>998900</td>\n",
       "      <td>Paris</td>\n",
       "      <td>Camilla</td>\n",
       "      <td>BANANAS</td>\n",
       "      <td>SEASHELLS</td>\n",
       "      <td>4897.0</td>\n",
       "      <td>1</td>\n",
       "    </tr>\n",
       "    <tr>\n",
       "      <th>5276</th>\n",
       "      <td>999200</td>\n",
       "      <td>Paris</td>\n",
       "      <td>Charlie</td>\n",
       "      <td>BANANAS</td>\n",
       "      <td>SEASHELLS</td>\n",
       "      <td>4896.0</td>\n",
       "      <td>1</td>\n",
       "    </tr>\n",
       "    <tr>\n",
       "      <th>5277</th>\n",
       "      <td>999600</td>\n",
       "      <td>Caesar</td>\n",
       "      <td>Paris</td>\n",
       "      <td>PEARLS</td>\n",
       "      <td>SEASHELLS</td>\n",
       "      <td>9998.0</td>\n",
       "      <td>1</td>\n",
       "    </tr>\n",
       "    <tr>\n",
       "      <th>5278</th>\n",
       "      <td>999700</td>\n",
       "      <td>Charlie</td>\n",
       "      <td>Gina</td>\n",
       "      <td>BANANAS</td>\n",
       "      <td>SEASHELLS</td>\n",
       "      <td>4891.0</td>\n",
       "      <td>12</td>\n",
       "    </tr>\n",
       "  </tbody>\n",
       "</table>\n",
       "<p>5279 rows × 7 columns</p>\n",
       "</div>"
      ],
      "text/plain": [
       "      timestamp    buyer   seller   symbol   currency    price  quantity\n",
       "0             0    Paris   Caesar   PEARLS  SEASHELLS  10004.0         1\n",
       "1             0    Paris  Charlie  BANANAS  SEASHELLS   4952.0         1\n",
       "2          1100   Caesar     Gary   PEARLS  SEASHELLS   9996.0         2\n",
       "3          1300    Pablo   Caesar  BANANAS  SEASHELLS   4949.0         3\n",
       "4          1700    Paris  Camilla   PEARLS  SEASHELLS  10002.0         1\n",
       "...         ...      ...      ...      ...        ...      ...       ...\n",
       "5274     997600     Gary   Caesar   PEARLS  SEASHELLS  10004.0         2\n",
       "5275     998900    Paris  Camilla  BANANAS  SEASHELLS   4897.0         1\n",
       "5276     999200    Paris  Charlie  BANANAS  SEASHELLS   4896.0         1\n",
       "5277     999600   Caesar    Paris   PEARLS  SEASHELLS   9998.0         1\n",
       "5278     999700  Charlie     Gina  BANANAS  SEASHELLS   4891.0        12\n",
       "\n",
       "[5279 rows x 7 columns]"
      ]
     },
     "execution_count": 25,
     "metadata": {},
     "output_type": "execute_result"
    }
   ],
   "source": [
    "numeric_cols = [\"timestamp\", \"price\", \"quantity\"]\n",
    "for col in numeric_cols:\n",
    "    new_col = pd.to_numeric(df[col])\n",
    "    df[col] = new_col\n",
    "\n",
    "df"
   ]
  },
  {
   "cell_type": "code",
   "execution_count": 94,
   "metadata": {},
   "outputs": [],
   "source": [
    "# concentrate on trades made by A on symbol B\n",
    "def trades(df, name, symbol):\n",
    "    df_n = df[(df['buyer'] == name) | (df['seller'] == name)]\n",
    "    df_ns = df_n[df_n['symbol'] == symbol]\n",
    "    return df_ns"
   ]
  },
  {
   "cell_type": "code",
   "execution_count": 95,
   "metadata": {},
   "outputs": [],
   "source": [
    "df_paris_bananas = trades(df, \"Paris\", \"BANANAS\")"
   ]
  },
  {
   "cell_type": "code",
   "execution_count": 102,
   "metadata": {},
   "outputs": [],
   "source": [
    "def compute_pl(df, name, debug = False):\n",
    "    pos = 0\n",
    "    exist_trades_prices = []\n",
    "    exist_trades_quantity = []\n",
    "    pl = []\n",
    "\n",
    "    def update(price, quantity, pos, exist_trades_prices,exist_trades_quantity, pl):\n",
    "        trade_quantity = np.array(exist_trades_quantity)\n",
    "        quantity_cumsum = np.cumsum(np.abs(trade_quantity))\n",
    "        ids = np.where(quantity_cumsum <= quantity)[0]\n",
    "        quantity = abs(quantity)\n",
    "        remain = 0\n",
    "        if len(ids) != 0:\n",
    "            for id in ids:\n",
    "                trade_pl = (price - exist_trades_prices[id]) * trade_quantity[id]\n",
    "                pl.append(trade_pl)\n",
    "            start_idx = ids[-1] + 1\n",
    "            \n",
    "            if start_idx < len(quantity_cumsum) and quantity_cumsum[ids[-1]] < quantity:\n",
    "                # trade a part\n",
    "                traded = quantity - quantity_cumsum[ids[-1]]\n",
    "                trade_pl = (price - exist_trades_prices[start_idx]) * traded\n",
    "                pl.append(trade_pl)\n",
    "                exist_trades_prices = exist_trades_prices[start_idx:]\n",
    "                exist_trades_quantity = exist_trades_quantity[start_idx:]\n",
    "                exist_trades_quantity[0] = trade_quantity[start_idx] - traded\n",
    "            elif start_idx >= len(quantity_cumsum) and quantity_cumsum[ids[-1]] < quantity:\n",
    "                # overtrade\n",
    "                remain = quantity - quantity_cumsum[ids[-1]]\n",
    "                exist_trades_prices = exist_trades_prices[start_idx:]\n",
    "            exist_trades_quantity = exist_trades_quantity[start_idx:]\n",
    "        return pos, exist_trades_prices,exist_trades_quantity, pl, remain\n",
    "\n",
    "    for idx in range(len(df)):\n",
    "        row = df.iloc[idx]\n",
    "        price = row['price']\n",
    "        quantity = row['quantity']\n",
    "        if debug:\n",
    "            print(f\"row[{idx}]: price: {price}, quantity: {quantity}\")\n",
    "        if row['buyer'] == name:\n",
    "            if debug:\n",
    "                print(\"---BUY---\")\n",
    "            # inc pos\n",
    "            if pos < 0:\n",
    "                pos, exist_trades_prices,exist_trades_quantity, pl, remain = update(price, quantity, pos, exist_trades_prices,exist_trades_quantity, pl)\n",
    "                if remain > 0:\n",
    "                    exist_trades_prices.append(price)\n",
    "                    exist_trades_quantity.append(remain)\n",
    "            else:\n",
    "                exist_trades_prices.append(price)\n",
    "                exist_trades_quantity.append(quantity)\n",
    "            pos += quantity\n",
    "            \n",
    "        elif row['seller'] == name:\n",
    "            if debug:\n",
    "                print(\"---SALE---\")\n",
    "            # dec pos\n",
    "            if pos > 0:\n",
    "                pos, exist_trades_prices,exist_trades_quantity, pl, remain = update(price, quantity, pos, exist_trades_prices,exist_trades_quantity, pl)\n",
    "                if remain > 0:\n",
    "                    exist_trades_prices.append(price)\n",
    "                    exist_trades_quantity.append(-remain)\n",
    "            else:\n",
    "                exist_trades_prices.append(price)\n",
    "                exist_trades_quantity.append(-quantity)\n",
    "            pos -= quantity\n",
    "        \n",
    "        if debug:\n",
    "            print(f\"current pos: {pos}, exist_trades_prices: {exist_trades_prices}, exist_trades_quantity: {exist_trades_quantity}\")\n",
    "            print(f\"current pl: {pl}\")\n",
    "        \n",
    "    return pos, exist_trades_prices,exist_trades_quantity, pl"
   ]
  },
  {
   "cell_type": "code",
   "execution_count": 103,
   "metadata": {},
   "outputs": [],
   "source": [
    "pos, exist_trades_prices,exist_trades_quantity, pl = compute_pl(df_paris_bananas, \"Paris\", debug=False)"
   ]
  },
  {
   "cell_type": "code",
   "execution_count": 104,
   "metadata": {},
   "outputs": [
    {
     "data": {
      "text/plain": [
       "[<matplotlib.lines.Line2D at 0x7f7b795ddca0>]"
      ]
     },
     "execution_count": 104,
     "metadata": {},
     "output_type": "execute_result"
    },
    {
     "data": {
      "image/png": "[encoded data removed]",
      "text/plain": [
       "<Figure size 432x288 with 1 Axes>"
      ]
     },
     "metadata": {
      "needs_background": "light"
     },
     "output_type": "display_data"
    }
   ],
   "source": [
    "import matplotlib.pyplot as plt\n",
    "plt.plot(pl)\n"
   ]
  },
  {
   "cell_type": "code",
   "execution_count": 99,
   "metadata": {},
   "outputs": [],
   "source": [
    "df_charlie_bananas = trades(df, \"Charlie\", \"BANANAS\")"
   ]
  },
  {
   "cell_type": "code",
   "execution_count": 100,
   "metadata": {},
   "outputs": [],
   "source": [
    "pos, exist_trades_prices,exist_trades_quantity, pl = compute_pl(df_charlie_bananas, \"Charlie\", debug=False)"
   ]
  },
  {
   "cell_type": "code",
   "execution_count": 101,
   "metadata": {},
   "outputs": [
    {
     "data": {
      "text/plain": [
       "[<matplotlib.lines.Line2D at 0x7f7b79574e20>]"
      ]
     },
     "execution_count": 101,
     "metadata": {},
     "output_type": "execute_result"
    },
    {
     "data": {
      "image/png": "[encoded data removed]",
      "text/plain": [
       "<Figure size 432x288 with 1 Axes>"
      ]
     },
     "metadata": {
      "needs_background": "light"
     },
     "output_type": "display_data"
    }
   ],
   "source": [
    "plt.plot(pl)"
   ]
  },
  {
   "cell_type": "code",
   "execution_count": null,
   "metadata": {},
   "outputs": [],
   "source": []
  }
 ],
 "metadata": {
  "kernelspec": {
   "display_name": "Python 3",
   "language": "python",
   "name": "python3"
  },
  "language_info": {
   "codemirror_mode": {
    "name": "ipython",
    "version": 3
   },
   "file_extension": ".py",
   "mimetype": "text/x-python",
   "name": "python",
   "nbconvert_exporter": "python",
   "pygments_lexer": "ipython3",
   "version": "3.8.8"
  },
  "orig_nbformat": 4
 },
 "nbformat": 4,
 "nbformat_minor": 2
}
